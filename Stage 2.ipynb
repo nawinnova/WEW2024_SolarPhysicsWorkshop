{
 "cells": [
  {
   "cell_type": "markdown",
   "metadata": {
    "id": "-sjM2845rao8"
   },
   "source": [
    "# Stage 2 : Advanced Basics and Common Packages"
   ]
  },
  {
   "cell_type": "markdown",
   "metadata": {
    "id": "Ss06fuUnrao-"
   },
   "source": [
    "## Functions\n",
    "\n",
    "A function is a set of code that has a defined input and output. It's like a assembly machine, you put in something and get something back. They're are many built-in functions to python, such as len() which tells you the length of a list "
   ]
  },
  {
   "cell_type": "code",
   "execution_count": 3,
   "metadata": {
    "id": "B43yMuX9rao_"
   },
   "outputs": [
    {
     "data": {
      "text/plain": [
       "34"
      ]
     },
     "execution_count": 3,
     "metadata": {},
     "output_type": "execute_result"
    }
   ],
   "source": [
    "number_list = [5,64,654,625,24,231,5,4768,356,235,\\\n",
    "              76,25,376,43523,73,52,73,52,63,52,635,\\\n",
    "              7,23,645,763,73,437,76,273,743,73,73,623,76374557]\n",
    "\n",
    "len(number_list)"
   ]
  },
  {
   "cell_type": "markdown",
   "metadata": {
    "id": "cc3_DIqXrapC"
   },
   "source": [
    "You can also create your own functions. A simple example of a function could be Pythagoras theorem."
   ]
  },
  {
   "cell_type": "markdown",
   "metadata": {},
   "source": [
    "1. Define the function:\n",
    "        - INPUT: shortsideone, shortsidetwo\n",
    "        - OUTPUT: longside"
   ]
  },
  {
   "cell_type": "code",
   "execution_count": 4,
   "metadata": {
    "id": "L6z_xUnTrapD"
   },
   "outputs": [],
   "source": [
    "def hypotenuse(shortsideone,shortsidetwo): \n",
    "    longside = ((shortsideone)**2+(shortsidetwo)**2)**(0.5)\n",
    "    return longside "
   ]
  },
  {
   "cell_type": "markdown",
   "metadata": {},
   "source": [
    "2. Call the function:"
   ]
  },
  {
   "cell_type": "code",
   "execution_count": 5,
   "metadata": {},
   "outputs": [
    {
     "data": {
      "text/plain": [
       "7.810249675906654"
      ]
     },
     "execution_count": 5,
     "metadata": {},
     "output_type": "execute_result"
    }
   ],
   "source": [
    "#First, we define the inputs that we later need when calling the function\n",
    "a = 5 \n",
    "b = 6\n",
    "\n",
    "# Now we call the function to make it run, using the values we defined \n",
    "hypotenuse(a,b)"
   ]
  },
  {
   "cell_type": "markdown",
   "metadata": {},
   "source": [
    "##  Exercise\n",
    "\n",
    " What is the hypotenuse if the two short sides are 9 and 10?  \n",
    "\n"
   ]
  },
  {
   "cell_type": "code",
   "execution_count": 6,
   "metadata": {},
   "outputs": [],
   "source": [
    "### Write your code below this line ###"
   ]
  },
  {
   "cell_type": "markdown",
   "metadata": {
    "id": "WMSgQV8jrapG"
   },
   "source": [
    "### HELP function\n",
    "\n",
    "Gives you information about a what a given function does."
   ]
  },
  {
   "cell_type": "code",
   "execution_count": 7,
   "metadata": {
    "id": "RGqsgKNFrapG"
   },
   "outputs": [
    {
     "name": "stdout",
     "output_type": "stream",
     "text": [
      "Help on built-in function len in module builtins:\n",
      "\n",
      "len(obj, /)\n",
      "    Return the number of items in a container.\n",
      "\n"
     ]
    }
   ],
   "source": [
    "help(len)"
   ]
  },
  {
   "cell_type": "markdown",
   "metadata": {
    "id": "cp4_rO1grapM"
   },
   "source": [
    "### List Comprehension\n",
    "\n",
    "Used for applying a function to every element in a list."
   ]
  },
  {
   "cell_type": "code",
   "execution_count": 9,
   "metadata": {
    "id": "-RvBP0yVrapN"
   },
   "outputs": [
    {
     "name": "stdout",
     "output_type": "stream",
     "text": [
      "[2, 4, 6, 8, 10]\n"
     ]
    }
   ],
   "source": [
    "singles = [1,2,3,4,5]\n",
    "\n",
    "doubles = [(x*2) for x in singles]\n",
    "\n",
    "print(doubles)"
   ]
  },
  {
   "cell_type": "code",
   "execution_count": 12,
   "metadata": {
    "id": "ZHlu5fP-rapP"
   },
   "outputs": [
    {
     "name": "stdout",
     "output_type": "stream",
     "text": [
      "A coronal mass ejection was observed at: 10:30\n",
      "A coronal mass ejection was observed at: 11:32\n",
      "A coronal mass ejection was observed at: 12:55\n",
      "A coronal mass ejection was observed at: 13:43\n",
      "A coronal mass ejection was observed at: 15:09\n"
     ]
    }
   ],
   "source": [
    "#Another Example\n",
    "\n",
    "CME_times = ['10:30', '11:32', '12:55', '13:43', '15:09']\n",
    "\n",
    "observations = [('A coronal mass ejection was observed at: ' + x) for x in CME_times]\n",
    "\n",
    "for i in observations:\n",
    "    print(i)"
   ]
  },
  {
   "cell_type": "markdown",
   "metadata": {
    "id": "wMYj_PD3sD7T"
   },
   "source": [
    "## Inputs\n",
    "\n",
    "Sometimes you'l want to input data into your code whilst it's running - to do this, use the \"input\" function, remember to assign it to a variable to store the data.\n"
   ]
  },
  {
   "cell_type": "code",
   "execution_count": null,
   "metadata": {},
   "outputs": [],
   "source": [
    "AName = input(\"What is your name?\")\n",
    "print('Hello ' + AName)"
   ]
  },
  {
   "cell_type": "markdown",
   "metadata": {},
   "source": []
  },
  {
   "cell_type": "code",
   "execution_count": 13,
   "metadata": {
    "id": "kIRpJGCqsBRd"
   },
   "outputs": [
    {
     "name": "stdout",
     "output_type": "stream",
     "text": [
      "30\n"
     ]
    }
   ],
   "source": [
    "# Look up the image of the Sun from the website: SolarMonitor.org\n",
    "sunspot_number = input('How many sunspots are there on the surface of the Sun right now?')\n",
    "print('There are '+ sunspot_number + ' sunspots on the surface of the Sun right now.')"
   ]
  },
  {
   "cell_type": "markdown",
   "metadata": {
    "id": "LBmBkkCnrapR"
   },
   "source": [
    "## Importing Packages\n",
    "\n",
    "A package is an essential part of coding in Python. A package is a collection of functions and data objects developed by other people - this means you can just use them instead of having to write them yourself!\n",
    "\n",
    "Each package needs to be imported before usage."
   ]
  },
  {
   "cell_type": "markdown",
   "metadata": {
    "id": "dXhLAfWzrapS"
   },
   "source": [
    "## Numpy Package\n",
    "\n",
    "Arguably the most common python package is called Numpy. Here are a few examples of it's utility. "
   ]
  },
  {
   "cell_type": "code",
   "execution_count": 14,
   "metadata": {
    "id": "DD5PevXHrapT"
   },
   "outputs": [],
   "source": [
    "import numpy # first, import the package"
   ]
  },
  {
   "cell_type": "code",
   "execution_count": 15,
   "metadata": {
    "id": "YGRvUcO4rapX",
    "outputId": "c986162f-f800-4cc7-a72a-8eae51868966"
   },
   "outputs": [
    {
     "name": "stdout",
     "output_type": "stream",
     "text": [
      "[0.  0.1 0.2 0.3 0.4 0.5 0.6 0.7 0.8 0.9 1.  1.1 1.2 1.3 1.4 1.5 1.6 1.7\n",
      " 1.8 1.9 2.  2.1 2.2 2.3 2.4 2.5 2.6 2.7 2.8 2.9 3.  3.1 3.2 3.3 3.4 3.5\n",
      " 3.6 3.7 3.8 3.9 4.  4.1 4.2 4.3 4.4 4.5 4.6 4.7 4.8 4.9 5.  5.1 5.2 5.3\n",
      " 5.4 5.5 5.6 5.7 5.8 5.9 6.  6.1 6.2 6.3 6.4 6.5 6.6 6.7 6.8 6.9 7.  7.1\n",
      " 7.2 7.3 7.4 7.5 7.6 7.7 7.8 7.9 8.  8.1 8.2 8.3 8.4 8.5 8.6 8.7 8.8 8.9\n",
      " 9.  9.1 9.2 9.3 9.4 9.5 9.6 9.7 9.8 9.9]\n"
     ]
    }
   ],
   "source": [
    "an_array = numpy.arange(0,10,0.1) # numpy.arange is a function that generates a numpy array with values based on (start,stop,interval)\n",
    "\n",
    "print(an_array)"
   ]
  },
  {
   "cell_type": "markdown",
   "metadata": {
    "id": "d1WGPZ5FrapZ"
   },
   "source": [
    "Objects in python have attributes, which are properties of the object."
   ]
  },
  {
   "cell_type": "code",
   "execution_count": 16,
   "metadata": {
    "id": "VwckgXDorapa",
    "outputId": "f6b4f314-0371-46b6-f8de-db2c169d3dfe"
   },
   "outputs": [
    {
     "data": {
      "text/plain": [
       "(100,)"
      ]
     },
     "execution_count": 16,
     "metadata": {},
     "output_type": "execute_result"
    }
   ],
   "source": [
    "an_array.shape # shape of afunkyarray"
   ]
  },
  {
   "cell_type": "markdown",
   "metadata": {},
   "source": [
    "You can also use numpy for basic mathematical functions:"
   ]
  },
  {
   "cell_type": "code",
   "execution_count": null,
   "metadata": {
    "id": "wOyAHcYvrapc",
    "outputId": "a81cd1dd-d26a-496a-aa02-7a36655b8f7e"
   },
   "outputs": [
    {
     "data": {
      "text/plain": [
       "1.0"
      ]
     },
     "execution_count": 10,
     "metadata": {},
     "output_type": "execute_result"
    }
   ],
   "source": [
    "numpy.sin(0.5*numpy.pi) # numpy.sin performs the sine function in radians"
   ]
  },
  {
   "cell_type": "code",
   "execution_count": 33,
   "metadata": {},
   "outputs": [
    {
     "data": {
      "text/plain": [
       "1.5707963267948966"
      ]
     },
     "execution_count": 33,
     "metadata": {},
     "output_type": "execute_result"
    }
   ],
   "source": [
    "numpy.radians(90) #numpy.radians converts angles from degrees to radians"
   ]
  },
  {
   "cell_type": "code",
   "execution_count": 23,
   "metadata": {
    "id": "inJI5Rnwp4K4"
   },
   "outputs": [
    {
     "data": {
      "text/plain": [
       "3.1622776601683795"
      ]
     },
     "execution_count": 23,
     "metadata": {},
     "output_type": "execute_result"
    }
   ],
   "source": [
    "numpy.sqrt(10) #numpy.sqrt calculates the square root of a number"
   ]
  },
  {
   "cell_type": "code",
   "execution_count": 28,
   "metadata": {},
   "outputs": [
    {
     "data": {
      "text/plain": [
       "10.33"
      ]
     },
     "execution_count": 28,
     "metadata": {},
     "output_type": "execute_result"
    }
   ],
   "source": [
    "numpy.around(10.3278542, 2) #numpy.around evenly rounds to the given number of decimals"
   ]
  },
  {
   "cell_type": "code",
   "execution_count": 29,
   "metadata": {},
   "outputs": [
    {
     "data": {
      "text/plain": [
       "2.0"
      ]
     },
     "execution_count": 29,
     "metadata": {},
     "output_type": "execute_result"
    }
   ],
   "source": [
    "numpy.log10(100) #numpy.log10 calculates the base 10 logarithm"
   ]
  },
  {
   "cell_type": "markdown",
   "metadata": {},
   "source": [
    "##  Exercise \n",
    "1. What is the cosine of 67 degrees?  "
   ]
  },
  {
   "cell_type": "code",
   "execution_count": null,
   "metadata": {},
   "outputs": [],
   "source": []
  },
  {
   "cell_type": "markdown",
   "metadata": {},
   "source": [
    "2. (Bonus) Write a function to calculate the sound intensity levels (loudness) in decibel values. The input is the sound intensity in unit of watt/m^2"
   ]
  },
  {
   "cell_type": "code",
   "execution_count": null,
   "metadata": {},
   "outputs": [],
   "source": []
  }
 ],
 "metadata": {
  "colab": {
   "name": "Stage 2.ipynb",
   "provenance": []
  },
  "kernelspec": {
   "display_name": "myenv2",
   "language": "python",
   "name": "python3"
  },
  "language_info": {
   "codemirror_mode": {
    "name": "ipython",
    "version": 3
   },
   "file_extension": ".py",
   "mimetype": "text/x-python",
   "name": "python",
   "nbconvert_exporter": "python",
   "pygments_lexer": "ipython3",
   "version": "3.8.-1"
  },
  "vscode": {
   "interpreter": {
    "hash": "cbec99cd14f820e6049663d5f7c0453d39bdb4350567ffc53cebe750e87b7489"
   }
  }
 },
 "nbformat": 4,
 "nbformat_minor": 1
}
