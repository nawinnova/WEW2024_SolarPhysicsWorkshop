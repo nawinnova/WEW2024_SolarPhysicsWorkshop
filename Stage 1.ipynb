{
 "cells": [
  {
   "cell_type": "markdown",
   "metadata": {
    "id": "uFAe5Plpvmz_"
   },
   "source": [
    "# Stage 1 : Basics of Python Programming\n",
    "\n",
    "To click through these examples, use shift+enter. Any of these examples can be edited by pressing enter whilst a box is highlighted - have a go at it!"
   ]
  },
  {
   "cell_type": "markdown",
   "metadata": {
    "id": "8BnRN45wvm0A"
   },
   "source": [
    "## Arithmetic uses"
   ]
  },
  {
   "cell_type": "code",
   "execution_count": 1,
   "metadata": {
    "id": "0vNpLd5Nvm0C"
   },
   "outputs": [
    {
     "data": {
      "text/plain": [
       "4"
      ]
     },
     "execution_count": 1,
     "metadata": {},
     "output_type": "execute_result"
    }
   ],
   "source": [
    "2+2"
   ]
  },
  {
   "cell_type": "code",
   "execution_count": 2,
   "metadata": {
    "id": "8IzIJ8u6vm0G"
   },
   "outputs": [
    {
     "data": {
      "text/plain": [
       "1.3333333333333333"
      ]
     },
     "execution_count": 2,
     "metadata": {},
     "output_type": "execute_result"
    }
   ],
   "source": [
    "4/3"
   ]
  },
  {
   "cell_type": "code",
   "execution_count": 3,
   "metadata": {
    "id": "VqjfEVTkvm0I"
   },
   "outputs": [
    {
     "data": {
      "text/plain": [
       "36"
      ]
     },
     "execution_count": 3,
     "metadata": {},
     "output_type": "execute_result"
    }
   ],
   "source": [
    "9*4 #NOTE: * is used for multiplication in python"
   ]
  },
  {
   "cell_type": "code",
   "execution_count": 4,
   "metadata": {
    "id": "IDtHpHKXvm0K"
   },
   "outputs": [
    {
     "data": {
      "text/plain": [
       "8"
      ]
     },
     "execution_count": 4,
     "metadata": {},
     "output_type": "execute_result"
    }
   ],
   "source": [
    "2**3 #NOTE: similarly, ** is used for powers in python"
   ]
  },
  {
   "cell_type": "markdown",
   "metadata": {
    "id": "yTQiWnSkvm0N"
   },
   "source": [
    "Variables are labels used to store data in python. This could be a number, or text, or something else. Setting the value of a variable is known as \"assignment\":"
   ]
  },
  {
   "cell_type": "code",
   "execution_count": 5,
   "metadata": {
    "id": "w_6bPZb7vm0O"
   },
   "outputs": [],
   "source": [
    "a = 2"
   ]
  },
  {
   "cell_type": "code",
   "execution_count": 6,
   "metadata": {
    "id": "QlFAUuY_vm0S"
   },
   "outputs": [
    {
     "data": {
      "text/plain": [
       "10"
      ]
     },
     "execution_count": 6,
     "metadata": {},
     "output_type": "execute_result"
    }
   ],
   "source": [
    "a*2 + 6"
   ]
  },
  {
   "cell_type": "markdown",
   "metadata": {
    "id": "cqDUdFTGvm0V"
   },
   "source": [
    "Variables can also hold results of calculations:"
   ]
  },
  {
   "cell_type": "code",
   "execution_count": 7,
   "metadata": {
    "id": "KL6pGI28vm0W"
   },
   "outputs": [],
   "source": [
    "b = a*3 + 4\n"
   ]
  },
  {
   "cell_type": "code",
   "execution_count": 8,
   "metadata": {
    "id": "BCAxdryxvm0Z"
   },
   "outputs": [
    {
     "data": {
      "text/plain": [
       "10"
      ]
     },
     "execution_count": 8,
     "metadata": {},
     "output_type": "execute_result"
    }
   ],
   "source": [
    "b"
   ]
  },
  {
   "cell_type": "markdown",
   "metadata": {
    "id": "gqvc5H20vm0e"
   },
   "source": [
    "## Strings\n",
    "\n",
    "To use strings, \" or ' must be used around the text you wish to store."
   ]
  },
  {
   "cell_type": "code",
   "execution_count": 9,
   "metadata": {
    "id": "hAva81Pavm0g"
   },
   "outputs": [],
   "source": [
    "some_words = 'Hello World!'"
   ]
  },
  {
   "cell_type": "code",
   "execution_count": 10,
   "metadata": {
    "id": "B3fBLflUvm0m"
   },
   "outputs": [
    {
     "data": {
      "text/plain": [
       "'Hello World!'"
      ]
     },
     "execution_count": 10,
     "metadata": {},
     "output_type": "execute_result"
    }
   ],
   "source": [
    "some_words\n"
   ]
  },
  {
   "cell_type": "markdown",
   "metadata": {
    "id": "0eLrBEFivm0p"
   },
   "source": [
    "Strings can be joined together simply by using +"
   ]
  },
  {
   "cell_type": "code",
   "execution_count": 11,
   "metadata": {
    "id": "iJNv66M2vm0q",
    "outputId": "e94fc7ff-87d9-4f45-912d-77ccdd679fe0"
   },
   "outputs": [
    {
     "data": {
      "text/plain": [
       "'Solar Physics'"
      ]
     },
     "execution_count": 11,
     "metadata": {},
     "output_type": "execute_result"
    }
   ],
   "source": [
    "'Solar' + ' ' + 'Physics'"
   ]
  },
  {
   "cell_type": "markdown",
   "metadata": {
    "id": "fSS6FFynvm0s"
   },
   "source": [
    "## Conditionals (IF yes do something, ELSE do something else)\n",
    "\n",
    "Conditionals are used to make certain parts of run if a certain condition is met. Trying change the value of sunspot_number and seeing what happens"
   ]
  },
  {
   "cell_type": "code",
   "execution_count": 12,
   "metadata": {
    "id": "PcSQVXX5vm0t"
   },
   "outputs": [
    {
     "name": "stdout",
     "output_type": "stream",
     "text": [
      "We are at Solar Maximum\n"
     ]
    }
   ],
   "source": [
    "sunspot_number = 'high'\n",
    "\n",
    "if sunspot_number == 'high':\n",
    "    print('We are at Solar Maximum')\n",
    "else:\n",
    "    print('We are at Solar Minimum')"
   ]
  },
  {
   "cell_type": "markdown",
   "metadata": {
    "id": "JbCePme9vm0v"
   },
   "source": [
    "## Loops\n",
    "\n",
    "Loops are used to repeat a code while a condition has/hasn't been met. Below are an examples of a \"while\" and \"for\" Loop"
   ]
  },
  {
   "cell_type": "markdown",
   "metadata": {},
   "source": [
    "### While Loop (WHILE condition is met, do something) ###"
   ]
  },
  {
   "cell_type": "code",
   "execution_count": 13,
   "metadata": {
    "id": "dGFwsakGvm0w",
    "scrolled": true
   },
   "outputs": [
    {
     "name": "stdout",
     "output_type": "stream",
     "text": [
      "10\n",
      "9\n",
      "8\n",
      "7\n",
      "6\n",
      "5\n",
      "4\n",
      "3\n",
      "2\n",
      "1\n"
     ]
    }
   ],
   "source": [
    "i = 10\n",
    "while i > 0:\n",
    "    print(i)\n",
    "    i = i - 1 \n",
    "    "
   ]
  },
  {
   "cell_type": "markdown",
   "metadata": {},
   "source": [
    "### For Loop (do something FOR x number of times)"
   ]
  },
  {
   "cell_type": "code",
   "execution_count": 14,
   "metadata": {},
   "outputs": [
    {
     "name": "stdout",
     "output_type": "stream",
     "text": [
      "10\n",
      "9\n",
      "8\n",
      "7\n",
      "6\n",
      "5\n",
      "4\n",
      "3\n",
      "2\n",
      "1\n"
     ]
    }
   ],
   "source": [
    "for i in range(10, 0, -1):\n",
    "    print(i)"
   ]
  },
  {
   "cell_type": "markdown",
   "metadata": {
    "id": "iN7Crqd9vm0y"
   },
   "source": [
    "## Lists\n",
    "\n",
    "Unsurprisingly, a list is a list of things."
   ]
  },
  {
   "cell_type": "code",
   "execution_count": 15,
   "metadata": {
    "id": "a9yN41Mvvm00"
   },
   "outputs": [],
   "source": [
    "a = [1,5,1,3,8]"
   ]
  },
  {
   "cell_type": "markdown",
   "metadata": {
    "id": "1qs_n5SPvm03"
   },
   "source": [
    "To access a different thing in the list, you index the list like a[0]. Note: python starts counting at 0"
   ]
  },
  {
   "cell_type": "code",
   "execution_count": 16,
   "metadata": {
    "id": "x4jlHUURvm04"
   },
   "outputs": [
    {
     "data": {
      "text/plain": [
       "1"
      ]
     },
     "execution_count": 16,
     "metadata": {},
     "output_type": "execute_result"
    }
   ],
   "source": [
    "a[0]\n"
   ]
  },
  {
   "cell_type": "markdown",
   "metadata": {
    "id": "S6evDhmnvm08"
   },
   "source": [
    "###  Slicing\n",
    "\n",
    "Slicing is used to select a certain section of data, the best use is a list"
   ]
  },
  {
   "cell_type": "code",
   "execution_count": 17,
   "metadata": {
    "id": "RZlMFIhuvm0-"
   },
   "outputs": [],
   "source": [
    "ListyList = [1977,1978,1981,1984,2005,2019]"
   ]
  },
  {
   "cell_type": "code",
   "execution_count": 18,
   "metadata": {},
   "outputs": [
    {
     "data": {
      "text/plain": [
       "[1978, 1981]"
      ]
     },
     "execution_count": 18,
     "metadata": {},
     "output_type": "execute_result"
    }
   ],
   "source": [
    "ListyList[1:3]"
   ]
  },
  {
   "cell_type": "code",
   "execution_count": 19,
   "metadata": {
    "id": "vOysKTX6vm1C",
    "outputId": "dddbcf59-b0fd-49cd-ad00-5f5b46f99ef8"
   },
   "outputs": [
    {
     "data": {
      "text/plain": [
       "[1977, 1978]"
      ]
     },
     "execution_count": 19,
     "metadata": {},
     "output_type": "execute_result"
    }
   ],
   "source": [
    "ListyList[:2]"
   ]
  },
  {
   "cell_type": "code",
   "execution_count": 20,
   "metadata": {
    "id": "w5qfXGE-vm1G",
    "outputId": "dacc2741-8657-498d-884e-b9cfe1e3aed7"
   },
   "outputs": [
    {
     "data": {
      "text/plain": [
       "[1978, 1981, 1984, 2005, 2019]"
      ]
     },
     "execution_count": 20,
     "metadata": {},
     "output_type": "execute_result"
    }
   ],
   "source": [
    "ListyList[1:]"
   ]
  },
  {
   "cell_type": "markdown",
   "metadata": {},
   "source": [
    "Slicing also works on strings, for example:"
   ]
  },
  {
   "cell_type": "code",
   "execution_count": 21,
   "metadata": {
    "colab": {
     "base_uri": "https://localhost:8080/",
     "height": 34
    },
    "id": "SJYxGB7jvuRL",
    "outputId": "06e1df0b-69c6-4fd1-a40d-49662a9228ca"
   },
   "outputs": [
    {
     "name": "stdout",
     "output_type": "stream",
     "text": [
      "Active regions\n"
     ]
    }
   ],
   "source": [
    "sentence = \"Active regions have sunspots.\"\n",
    "sentence_slice = sentence[:14]\n",
    "print(sentence_slice)"
   ]
  },
  {
   "cell_type": "markdown",
   "metadata": {
    "id": "w-sX_u7Ivm1K"
   },
   "source": [
    "## Dictionaries\n",
    "\n",
    "Dictionaries are another type of data structure (like a list). They essentially allow you to link a \"key\" with a \"value\". For example, imagine you wanted to keep track of the number of sunspots present on the surface of the Sun over a few days."
   ]
  },
  {
   "cell_type": "code",
   "execution_count": 22,
   "metadata": {
    "id": "8q6A8XIevm1K"
   },
   "outputs": [],
   "source": [
    "sunspot_dictionary = {'October 10th': 5, 'October 15th':9, 'October 21st':13}"
   ]
  },
  {
   "cell_type": "markdown",
   "metadata": {
    "id": "cbSUFy9evm1N"
   },
   "source": [
    "You can then find out how many sunspots were present on the surface of the sun using the date as the index. "
   ]
  },
  {
   "cell_type": "code",
   "execution_count": 23,
   "metadata": {
    "id": "pqZMeft-vm1O",
    "outputId": "fec534b5-e20b-4ba4-8a87-211945b76fd6"
   },
   "outputs": [
    {
     "data": {
      "text/plain": [
       "5"
      ]
     },
     "execution_count": 23,
     "metadata": {},
     "output_type": "execute_result"
    }
   ],
   "source": [
    "sunspot_dictionary['October 10th']"
   ]
  },
  {
   "cell_type": "markdown",
   "metadata": {},
   "source": [
    "##  Exercise\n",
    "1. Create a loop that calculates the square root of all the numbers between 0 and 20. (for or while loop is fine)\n"
   ]
  },
  {
   "cell_type": "code",
   "execution_count": null,
   "metadata": {},
   "outputs": [],
   "source": []
  },
  {
   "cell_type": "markdown",
   "metadata": {},
   "source": [
    "2. (Bonus) Print following pattern using loop\n",
    "\n",
    "5 4 3 2 1 \\\n",
    "4 3 2 1 \\\n",
    "3 2 1 \\\n",
    "2 1 \\\n",
    "1"
   ]
  },
  {
   "cell_type": "code",
   "execution_count": null,
   "metadata": {},
   "outputs": [],
   "source": []
  }
 ],
 "metadata": {
  "colab": {
   "name": "Stage 1.ipynb",
   "provenance": []
  },
  "kernelspec": {
   "display_name": "myenv2",
   "language": "python",
   "name": "python3"
  },
  "language_info": {
   "codemirror_mode": {
    "name": "ipython",
    "version": 3
   },
   "file_extension": ".py",
   "mimetype": "text/x-python",
   "name": "python",
   "nbconvert_exporter": "python",
   "pygments_lexer": "ipython3",
   "version": "3.8.13"
  },
  "vscode": {
   "interpreter": {
    "hash": "cbec99cd14f820e6049663d5f7c0453d39bdb4350567ffc53cebe750e87b7489"
   }
  }
 },
 "nbformat": 4,
 "nbformat_minor": 1
}
