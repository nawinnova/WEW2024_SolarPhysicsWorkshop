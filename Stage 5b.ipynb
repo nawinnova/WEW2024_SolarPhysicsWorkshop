{
 "cells": [
  {
   "cell_type": "markdown",
   "metadata": {
    "id": "O7Hae280h3z7"
   },
   "source": [
    "# Stage 5b: Speed of the CME\n",
    "\n",
    "1.   Calculate the speed of the CME using observations."
   ]
  },
  {
   "cell_type": "code",
   "execution_count": null,
   "metadata": {
    "colab": {
     "base_uri": "https://localhost:8080/"
    },
    "id": "B6mX2sDGs2LC",
    "outputId": "123b3d1c-1cec-4671-9af9-9fdba1f3cc44"
   },
   "outputs": [],
   "source": [
    "!pip install -q opencv-python"
   ]
  },
  {
   "cell_type": "markdown",
   "metadata": {},
   "source": [
    "Import images"
   ]
  },
  {
   "cell_type": "code",
   "execution_count": 1,
   "metadata": {
    "colab": {
     "base_uri": "https://localhost:8080/",
     "height": 736
    },
    "id": "kDhq3S_TsqOi",
    "outputId": "36824fc8-dff1-43fe-d78f-effde35a5859"
   },
   "outputs": [],
   "source": [
    "import glob\n",
    "import cv2\n",
    "import numpy as np\n",
    "import plotly.express as px\n",
    "from os import path\n",
    "import warnings\n",
    "warnings.simplefilter('ignore') # We will ignore warnings for now\n",
    "\n",
    "if path.exists('WEW2024_database/') == False: # You wouldn't need these lines if you're plotting a different date!\n",
    "    ! git clone https://github.com/nawinnova/WEW2024_database.git # We're downloading data from github so it's quicker!\n",
    "    \n",
    "\n",
    "# #Fetch the coronagraph images\n",
    "map_list = sorted(glob.glob('WEW2024_database/LASCO_images/*.png')) # This will give us a list of all the files we downloaded"
   ]
  },
  {
   "cell_type": "code",
   "execution_count": 2,
   "metadata": {},
   "outputs": [
    {
     "name": "stdout",
     "output_type": "stream",
     "text": [
      "----------------------------------\n",
      "| Index\t|\tTimestamp        |\n",
      "----------------------------------\n",
      "| 0\t|\t2012-08-31 18:06 |\n",
      "| 1\t|\t2012-08-31 18:18 |\n",
      "| 2\t|\t2012-08-31 18:30 |\n",
      "| 3\t|\t2012-08-31 18:42 |\n",
      "| 4\t|\t2012-08-31 18:54 |\n",
      "| 5\t|\t2012-08-31 19:06 |\n",
      "| 6\t|\t2012-08-31 19:18 |\n",
      "| 7\t|\t2012-08-31 19:30 |\n",
      "| 8\t|\t2012-08-31 19:42 |\n",
      "| 9\t|\t2012-08-31 19:54 |\n",
      "| 10\t|\t2012-08-31 20:06 |\n",
      "| 11\t|\t2012-08-31 20:18 |\n",
      "| 12\t|\t2012-08-31 20:30 |\n",
      "| 13\t|\t2012-08-31 20:42 |\n",
      "| 14\t|\t2012-08-31 21:18 |\n",
      "| 15\t|\t2012-08-31 21:30 |\n",
      "| 16\t|\t2012-08-31 21:42 |\n",
      "| 17\t|\t2012-08-31 21:54 |\n",
      "| 18\t|\t2012-08-31 22:06 |\n",
      "| 19\t|\t2012-08-31 22:18 |\n",
      "| 20\t|\t2012-08-31 22:30 |\n",
      "| 21\t|\t2012-08-31 23:06 |\n",
      "| 22\t|\t2012-08-31 23:18 |\n",
      "| 23\t|\t2012-08-31 23:30 |\n",
      "| 24\t|\t2012-08-31 23:42 |\n",
      "| 25\t|\t2012-08-31 23:54 |\n",
      "| 26\t|\t2012-09-01 00:06 |\n",
      "| 27\t|\t2012-09-01 00:18 |\n",
      "| 28\t|\t2012-09-01 00:30 |\n",
      "| 29\t|\t2012-09-01 00:42 |\n",
      "| 30\t|\t2012-09-01 00:54 |\n",
      "| 31\t|\t2012-09-01 01:30 |\n",
      "| 32\t|\t2012-09-01 01:42 |\n",
      "| 33\t|\t2012-09-01 01:54 |\n",
      "| 34\t|\t2012-09-01 02:06 |\n",
      "| 35\t|\t2012-09-01 02:18 |\n",
      "| 36\t|\t2012-09-01 02:30 |\n",
      "| 37\t|\t2012-09-01 02:42 |\n",
      "| 38\t|\t2012-09-01 03:06 |\n",
      "| 39\t|\t2012-09-01 03:18 |\n",
      "| 40\t|\t2012-09-01 03:30 |\n",
      "| 41\t|\t2012-09-01 03:42 |\n",
      "| 42\t|\t2012-09-01 03:54 |\n",
      "| 43\t|\t2012-09-01 04:06 |\n",
      "| 44\t|\t2012-09-01 04:18 |\n",
      "| 45\t|\t2012-09-01 04:30 |\n",
      "| 46\t|\t2012-09-01 04:42 |\n",
      "| 47\t|\t2012-09-01 04:54 |\n",
      "| 48\t|\t2012-09-01 05:06 |\n",
      "| 49\t|\t2012-09-01 05:18 |\n",
      "| 50\t|\t2012-09-01 05:30 |\n",
      "| 51\t|\t2012-09-01 05:42 |\n",
      "| 52\t|\t2012-09-01 05:54 |\n",
      "| 53\t|\t2012-09-01 06:06 |\n",
      "| 54\t|\t2012-09-01 06:18 |\n",
      "| 55\t|\t2012-09-01 06:30 |\n",
      "| 56\t|\t2012-09-01 06:42 |\n",
      "| 57\t|\t2012-09-01 06:54 |\n",
      "| 58\t|\t2012-09-01 07:06 |\n",
      "| 59\t|\t2012-09-01 07:18 |\n",
      "| 60\t|\t2012-09-01 07:30 |\n",
      "| 61\t|\t2012-09-01 07:42 |\n",
      "| 62\t|\t2012-09-01 07:54 |\n",
      "| 63\t|\t2012-09-01 08:06 |\n",
      "| 64\t|\t2012-09-01 08:18 |\n",
      "| 65\t|\t2012-09-01 08:30 |\n",
      "| 66\t|\t2012-09-01 08:42 |\n",
      "| 67\t|\t2012-09-01 09:06 |\n",
      "| 68\t|\t2012-09-01 09:18 |\n",
      "| 69\t|\t2012-09-01 09:30 |\n",
      "| 70\t|\t2012-09-01 09:42 |\n",
      "| 71\t|\t2012-09-01 09:54 |\n",
      "| 72\t|\t2012-09-01 10:06 |\n",
      "| 73\t|\t2012-09-01 10:18 |\n",
      "| 74\t|\t2012-09-01 10:30 |\n",
      "| 75\t|\t2012-09-01 10:42 |\n",
      "| 76\t|\t2012-09-01 10:54 |\n",
      "| 77\t|\t2012-09-01 11:06 |\n",
      "| 78\t|\t2012-09-01 11:18 |\n",
      "| 79\t|\t2012-09-01 11:30 |\n",
      "| 80\t|\t2012-09-01 11:42 |\n",
      "| 81\t|\t2012-09-01 11:54 |\n",
      "----------------------------------\n"
     ]
    }
   ],
   "source": [
    "# Read the timestamps from the 'timestamps.npy' file\n",
    "timestamps = np.load('WEW2024_database/timestamps.npy')\n",
    "\n",
    "# And print index, timestamp in a nice formatted table, with | and - as the borders and using \\t\n",
    "\n",
    "print('----------------------------------')\n",
    "print('| Index\\t|\\tTimestamp        |')\n",
    "print('----------------------------------')\n",
    "\n",
    "for i in range(len(timestamps)):\n",
    "    print(f'| {i}\\t|\\t{timestamps[i][:-7]} |')\n",
    "\n",
    "print('----------------------------------')\n"
   ]
  },
  {
   "attachments": {},
   "cell_type": "markdown",
   "metadata": {},
   "source": [
    "Now, input here the index of your timestamp"
   ]
  },
  {
   "cell_type": "code",
   "execution_count": 13,
   "metadata": {},
   "outputs": [],
   "source": [
    "filenumber = input('Image number: ')\n",
    "filename = map_list[int(filenumber)]\n",
    "\n",
    "#Read and plot the image file\n",
    "img = cv2.imread(filename)\n",
    "\n",
    "img = cv2.imread(filename)\n",
    "fig=px.imshow(cv2.cvtColor(img, cv2.COLOR_BGR2RGB), width=1000, height=600)\n",
    "fig.update_xaxes(visible=False)\n",
    "fig.update_yaxes(visible=False)\n",
    "fig.show()"
   ]
  },
  {
   "cell_type": "markdown",
   "metadata": {
    "id": "Qu_pfn7X5m-n"
   },
   "source": [
    "Now select two points on the image to calculate the distance the CME has travelled. First point should be at the center or surface of the Sun. Second point should be at the top of the CME bubble.\n"
   ]
  },
  {
   "cell_type": "code",
   "execution_count": null,
   "metadata": {
    "colab": {
     "base_uri": "https://localhost:8080/"
    },
    "id": "dXETT2taVEzo",
    "outputId": "f7543d52-91c2-4897-d8b3-7de295b07577"
   },
   "outputs": [],
   "source": [
    "coords= []\n",
    "x1 = input('CME source x coordinate: ')\n",
    "y1 = input('CME source y coordinate: ')\n",
    "coords.append([int(x1), int(y1)])\n",
    "\n",
    "x2 = input('CME front x coordinate: ')\n",
    "y2 = input('CME front y coordinate: ')\n",
    "coords.append([int(x2), int(y2)])\n",
    "\n",
    "#Calculate the distance - Note that one pixel is equal to 63303 km\n",
    "dist = np.linalg.norm(np.array(coords[1])-np.array(coords[0]))*63303\n",
    "print('CME has travelled ', int(dist), ' km')"
   ]
  },
  {
   "cell_type": "markdown",
   "metadata": {
    "id": "I6yID_T_vA_E"
   },
   "source": [
    "Enter the time the CME is observed at its origin on the Sun and in the coronagraph."
   ]
  },
  {
   "cell_type": "code",
   "execution_count": null,
   "metadata": {
    "colab": {
     "base_uri": "https://localhost:8080/"
    },
    "id": "RqPdwtZ55m-o",
    "outputId": "54ece8a8-1de3-4963-d3ac-b39e6cba45e4"
   },
   "outputs": [],
   "source": [
    "t1 = input('Time plasma structure erupted on the Sun (hh:mm)')\n",
    "t2 = input('Time CME is spotted in the coronagraph (hh:mm)')\n",
    "\n",
    "t1_hour, t1_minute = [i for i in t1.split(\":\")]\n",
    "t1 = int(t1_hour)*60*60 + int(t1_minute)*60\n",
    "\n",
    "t2_hour, t2_minute = [i for i in t2.split(\":\")]\n",
    "t2 = int(t2_hour)*60*60 + int(t2_minute)*60"
   ]
  },
  {
   "cell_type": "markdown",
   "metadata": {
    "id": "OZeM2ERQ5m-p"
   },
   "source": [
    "Now calculate the speed."
   ]
  },
  {
   "cell_type": "code",
   "execution_count": null,
   "metadata": {
    "colab": {
     "base_uri": "https://localhost:8080/"
    },
    "id": "DslSpTKE5m-p",
    "outputId": "20512b49-4ff8-4127-dde7-8f4fa891b913"
   },
   "outputs": [],
   "source": [
    "v = dist/(t2-t1)\n",
    "print('CME speed is: ', int(v), ' km/s')"
   ]
  },
  {
   "cell_type": "markdown",
   "metadata": {
    "id": "91-uiXRPD6Ka"
   },
   "source": [
    "## How soon does it hit the Earth?\n",
    "\n",
    "When predicting space weather, it is essential to know the speed of a CME so that we can calculate how soon it would reach the Earth. Using the CME speed calculated before and knowing the distance between the Earth and the Sun, work out how long it would take the CME to reach us.\n"
   ]
  },
  {
   "cell_type": "code",
   "execution_count": 10,
   "metadata": {
    "id": "oe7kWRXu5m-p"
   },
   "outputs": [
    {
     "name": "stdout",
     "output_type": "stream",
     "text": [
      "CME will reach Earth in: 50 hours\n"
     ]
    }
   ],
   "source": [
    "CMEtraveltime = input('Time taken for CME to reach Earth (hours): ')\n",
    "print('CME will reach Earth in: ' + CMEtraveltime + ' hours')\n"
   ]
  },
  {
   "cell_type": "code",
   "execution_count": null,
   "metadata": {},
   "outputs": [],
   "source": []
  }
 ],
 "metadata": {
  "colab": {
   "collapsed_sections": [],
   "name": "Stage 5.ipynb",
   "provenance": []
  },
  "kernelspec": {
   "display_name": "Python 3 (ipykernel)",
   "language": "python",
   "name": "python3"
  },
  "language_info": {
   "codemirror_mode": {
    "name": "ipython",
    "version": 3
   },
   "file_extension": ".py",
   "mimetype": "text/x-python",
   "name": "python",
   "nbconvert_exporter": "python",
   "pygments_lexer": "ipython3",
   "version": "3.8.-1"
  }
 },
 "nbformat": 4,
 "nbformat_minor": 4
}
